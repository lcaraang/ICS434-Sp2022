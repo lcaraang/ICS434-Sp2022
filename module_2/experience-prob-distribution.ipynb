{
 "cells": [
  {
   "cell_type": "markdown",
   "id": "713c60c7",
   "metadata": {},
   "source": [
    "##### Q.1 \n",
    "\n",
    "Consider the loaded die with the following probabilities:\n",
    "```\n",
    "    p(1) = 0.3/6\n",
    "    p(2) = 0.7/6\n",
    "    p(3) =   2/6\n",
    "    p(4) = 0.5/6\n",
    "    p(5) = 0.2/6\n",
    "    p(6) = 2.3/6\n",
    "```\n"
   ]
  },
  {
   "cell_type": "markdown",
   "id": "dbe12bdf",
   "metadata": {},
   "source": [
    "##### Q.2 \n",
    "* Plot the probability distribution above\n",
    "  * Select the most appropriate visualization to do so."
   ]
  },
  {
   "cell_type": "code",
   "execution_count": 1,
   "outputs": [],
   "source": [
    "import numpy as np\n",
    "import matplotlib.pyplot as plt\n",
    "from collections import Counter"
   ],
   "metadata": {
    "collapsed": false,
    "pycharm": {
     "name": "#%%\n"
    }
   }
  },
  {
   "cell_type": "code",
   "execution_count": 2,
   "outputs": [
    {
     "data": {
      "text/plain": "Text(0, 0.5, 'Probability')"
     },
     "execution_count": 2,
     "metadata": {},
     "output_type": "execute_result"
    },
    {
     "data": {
      "text/plain": "<Figure size 432x288 with 1 Axes>",
      "image/png": "[encoded data removed]"
     },
     "metadata": {
      "needs_background": "light"
     },
     "output_type": "display_data"
    }
   ],
   "source": [
    "x = [1, 2, 3, 4, 5, 6]\n",
    "y = [0.3/6, 0.7/6, 2/6, 0.5/6, 0.2/6, 2.3/6]\n",
    "\n",
    "plt.bar(x, y)\n",
    "plt.xlabel('Die face')\n",
    "plt.ylabel('Probability')"
   ],
   "metadata": {
    "collapsed": false,
    "pycharm": {
     "name": "#%%\n"
    }
   }
  },
  {
   "cell_type": "markdown",
   "id": "2bebd2a7",
   "metadata": {},
   "source": [
    "##### Q.3 \n",
    "* Based only on the plot above, can you predict the mean value of a random variable consisting of values obtaining from rolling a die  that follows the probability distribution given above? Explain your reasoning."
   ]
  },
  {
   "cell_type": "markdown",
   "id": "9144c2f9",
   "metadata": {
    "pycharm": {
     "name": "#%% md\n"
    }
   },
   "source": [
    "# Write you answer here\n",
    "Because 3 and 6 have the highest probabilities, I would predict the mean to be around (3 + 6) / 2 = 4.5"
   ]
  },
  {
   "cell_type": "markdown",
   "id": "007f6984",
   "metadata": {},
   "source": [
    "##### Q.4\n",
    "* Sample 5000 die rolls such that the probabilities of obtaining the values 1 through 6 are distributed according probabilities above. Use these samples to estimate the mean of the random variable. \n"
   ]
  },
  {
   "cell_type": "code",
   "execution_count": 3,
   "outputs": [
    {
     "data": {
      "text/plain": "4.0628"
     },
     "execution_count": 3,
     "metadata": {},
     "output_type": "execute_result"
    },
    {
     "data": {
      "text/plain": "<Figure size 432x288 with 1 Axes>",
      "image/png": "[encoded data removed]"
     },
     "metadata": {
      "needs_background": "light"
     },
     "output_type": "display_data"
    }
   ],
   "source": [
    "import statistics\n",
    "lst = []\n",
    "for i in range(5000):\n",
    "    roll = np.random.choice([1, 2, 3, 4, 5, 6],\n",
    "                            p=[0.3/6, 0.7/6, 2/6, 0.5/6, 0.2/6, 2.3/6])\n",
    "    lst.append(roll)\n",
    "counts = Counter(lst)\n",
    "plt.bar(counts.keys(), counts.values())\n",
    "mean = sum(key * count for key, count in counts.items()) / 5000\n",
    "mean"
   ],
   "metadata": {
    "collapsed": false,
    "pycharm": {
     "name": "#%%\n"
    }
   }
  },
  {
   "cell_type": "markdown",
   "id": "78152616",
   "metadata": {},
   "source": [
    "##### Q.5 \n",
    "\n",
    "* Does the mean match your prediction in Q.3 above? Explain your answer.\n"
   ]
  },
  {
   "cell_type": "markdown",
   "id": "6d11df2d",
   "metadata": {
    "pycharm": {
     "name": "#%% md\n"
    }
   },
   "source": [
    "# Write you answer here\n",
    "The mean of the random variable is 4.0628 which is close to the predicted 4.5 in Q.3."
   ]
  }
 ],
 "metadata": {
  "kernelspec": {
   "display_name": "Python 3 (ipykernel)",
   "language": "python",
   "name": "python3"
  },
  "language_info": {
   "codemirror_mode": {
    "name": "ipython",
    "version": 3
   },
   "file_extension": ".py",
   "mimetype": "text/x-python",
   "name": "python",
   "nbconvert_exporter": "python",
   "pygments_lexer": "ipython3",
   "version": "3.8.11"
  }
 },
 "nbformat": 4,
 "nbformat_minor": 5
}